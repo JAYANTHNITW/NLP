{
  "nbformat": 4,
  "nbformat_minor": 0,
  "metadata": {
    "colab": {
      "provenance": [],
      "include_colab_link": true
    },
    "kernelspec": {
      "name": "python3",
      "display_name": "Python 3"
    },
    "accelerator": "GPU"
  },
  "cells": [
    {
      "cell_type": "markdown",
      "metadata": {
        "id": "view-in-github",
        "colab_type": "text"
      },
      "source": [
        "<a href=\"https://colab.research.google.com/github/JAYANTHNITW/NLP/blob/main/GloVe.ipynb\" target=\"_parent\"><img src=\"https://colab.research.google.com/assets/colab-badge.svg\" alt=\"Open In Colab\"/></a>"
      ]
    },
    {
      "cell_type": "code",
      "metadata": {
        "id": "v2goQ7zZ6Jky"
      },
      "source": [
        "import numpy as np\n",
        "from sklearn.manifold import TSNE\n",
        "import matplotlib.pyplot as plt"
      ],
      "execution_count": 1,
      "outputs": []
    },
    {
      "cell_type": "markdown",
      "metadata": {
        "id": "e8kSUsoO1Z3U"
      },
      "source": [
        "## download the word vectors"
      ]
    },
    {
      "cell_type": "code",
      "metadata": {
        "id": "9WbgU0u66nw4",
        "outputId": "63abe98f-fc0c-487f-9601-d6906fec1086",
        "colab": {
          "base_uri": "https://localhost:8080/"
        }
      },
      "source": [
        "import gensim.downloader as api\n",
        "glove_model = api.load('glove-wiki-gigaword-300')"
      ],
      "execution_count": 2,
      "outputs": [
        {
          "output_type": "stream",
          "name": "stdout",
          "text": [
            "[==================================================] 100.0% 376.1/376.1MB downloaded\n"
          ]
        }
      ]
    },
    {
      "cell_type": "markdown",
      "metadata": {
        "id": "EAnppTlU1foo"
      },
      "source": [
        "## vector representation of a word"
      ]
    },
    {
      "cell_type": "code",
      "metadata": {
        "id": "5a3DLDARgOBS",
        "outputId": "0e0b6680-0fd9-41f3-adb9-97f5b221a01b",
        "colab": {
          "base_uri": "https://localhost:8080/"
        }
      },
      "source": [
        "glove_model[\"beautiful\"]"
      ],
      "execution_count": 3,
      "outputs": [
        {
          "output_type": "execute_result",
          "data": {
            "text/plain": [
              "array([-2.3852e-01, -3.3704e-01, -2.6531e-01, -3.4693e-01, -1.2875e-01,\n",
              "        1.0698e-01, -2.4669e-02,  2.6829e-02, -1.0024e-01, -9.1494e-01,\n",
              "        4.8989e-01, -1.0362e-01, -2.4535e-01,  5.7003e-01, -3.5189e-02,\n",
              "       -3.7690e-01, -6.9177e-02, -2.5942e-01,  2.2511e-01,  5.1855e-01,\n",
              "       -3.9326e-01,  1.2665e+00, -4.4396e-01,  7.6827e-01, -1.0909e-02,\n",
              "       -2.4237e-01, -1.0275e-01, -4.9712e-01, -8.0183e-02,  4.0611e-01,\n",
              "        2.1275e-01,  6.5182e-01, -1.1487e+00,  4.6080e-03, -6.8265e-01,\n",
              "        9.6941e-01, -7.6194e-02, -4.1590e-01, -2.7069e-01, -5.3364e-02,\n",
              "       -7.9631e-02, -2.6670e-01, -2.1544e-02,  2.2392e-01,  5.5741e-02,\n",
              "        8.4611e-02,  8.6011e-01,  4.8927e-01,  4.7428e-01, -2.4446e-01,\n",
              "       -2.1553e-01,  1.4370e-01,  5.0683e-01, -5.8435e-01, -5.6243e-01,\n",
              "       -6.3757e-02, -2.2861e-01, -6.9374e-02,  5.6618e-01, -8.7813e-02,\n",
              "       -2.1272e-01, -1.6319e-01,  3.3545e-01,  1.3707e-01, -1.1920e-03,\n",
              "        9.7461e-02,  3.2382e-01, -2.2693e-01, -1.7767e-01,  4.0166e-02,\n",
              "       -5.3029e-01, -4.5809e-01, -2.3483e-01,  3.1453e-01,  1.7206e-01,\n",
              "       -6.9996e-02,  2.1818e-01, -1.3370e-01,  7.0031e-02, -5.1293e-01,\n",
              "       -5.9242e-01,  2.6683e-01,  3.4211e-02, -2.3073e-01,  9.2629e-02,\n",
              "        9.7956e-01, -1.7105e-01,  3.4766e-01,  1.5655e-01,  1.6473e-01,\n",
              "       -4.8657e-02, -3.3195e-01,  4.0701e-02, -3.6882e-01,  3.8325e-02,\n",
              "        1.4471e-01,  4.5228e-01, -5.3237e-01,  1.6001e-01,  9.1856e-02,\n",
              "       -3.3670e-02, -2.8456e-01,  2.7661e-01,  2.5678e-01, -5.0600e-01,\n",
              "        9.0557e-02,  2.3590e-01, -2.3907e-01, -1.0190e-01, -4.3150e-01,\n",
              "       -1.9739e-01,  3.4452e-01,  3.3246e-01, -8.2128e-02,  2.3898e-01,\n",
              "        2.8935e-02,  3.4182e-01,  6.4785e-01,  4.4846e-02,  2.3185e-01,\n",
              "       -9.0600e-02,  3.2501e-01, -1.1690e-01,  6.3490e-01, -3.9302e-02,\n",
              "       -1.9762e-01, -1.1636e-01,  6.4526e-01, -6.8176e-01, -2.7499e-01,\n",
              "        2.3495e-01,  3.8022e-01, -7.2129e-02,  3.2216e-01, -6.3217e-01,\n",
              "       -1.3036e-01, -7.2367e-02, -1.8482e-01, -7.8929e-02,  1.2480e-01,\n",
              "        9.6149e-02,  4.8628e-02, -5.9320e-02, -1.5919e-01, -2.1533e-01,\n",
              "       -3.8724e-01,  3.5391e-01,  3.4231e-01, -3.9314e-01, -1.1976e-01,\n",
              "       -3.7050e-01, -1.2089e-01, -5.8203e-03, -3.3442e-01,  6.4367e-01,\n",
              "       -2.2489e-01, -4.5688e-01,  1.8812e-02,  1.7772e-01, -1.5363e-01,\n",
              "        4.2730e-02, -3.4811e-01,  6.1017e-01,  3.0632e-01, -4.0521e-01,\n",
              "        1.1642e-02,  8.0483e-05,  1.9665e-01,  2.7749e-01, -2.7826e-01,\n",
              "       -2.8165e-01, -1.7904e-01, -3.9776e-01,  2.9140e-01,  8.6537e-02,\n",
              "       -5.2711e-02, -2.4818e-01,  1.3174e-01, -5.0422e-01, -1.7553e-01,\n",
              "       -5.0302e-02, -6.6879e-01,  4.8007e-01,  2.3588e-02,  3.8455e-01,\n",
              "       -2.0443e-01,  3.2373e-01, -2.6863e-01, -1.1948e-03,  4.1770e-01,\n",
              "       -2.8839e-01, -5.8236e-02, -1.5103e-01, -5.2364e-02, -4.4363e-01,\n",
              "        1.8137e-01, -4.0447e-01, -4.2684e-01, -3.0427e-01,  3.6178e-01,\n",
              "        1.5595e+00, -3.3639e-01, -9.7822e-02, -1.7268e-02,  6.5117e-02,\n",
              "       -3.8777e-01,  5.7876e-02,  4.3497e-01, -3.1166e-01, -2.7618e-01,\n",
              "       -1.7773e-01,  3.3641e-01, -1.0508e-01, -3.1227e-01,  3.9182e-01,\n",
              "       -3.7915e-02,  2.5229e-01, -6.6904e-01,  1.0371e-01,  1.7643e-01,\n",
              "        2.5485e-01, -3.6815e-02,  1.7848e-01,  8.2182e-02, -6.1077e-01,\n",
              "        2.0832e-01,  4.1189e-01, -2.0953e-01, -5.2351e-01, -4.5922e-02,\n",
              "        1.0356e-01, -1.1626e-01, -2.3241e-01, -4.1366e-01, -5.6315e-02,\n",
              "        4.5747e-01, -2.9707e-01, -1.6137e-01, -3.3410e-01, -3.1331e-01,\n",
              "        3.3484e-01,  1.7417e-01, -4.1686e-01,  4.8983e-01, -1.7848e-01,\n",
              "        4.7937e-01, -3.0127e-01,  4.2611e-01,  1.9762e-01,  3.4076e-01,\n",
              "        2.6479e-01, -5.3770e-01, -1.0298e-01, -3.8824e-02,  7.3822e-01,\n",
              "        3.3278e-02,  1.1207e-01,  7.8605e-02,  1.3025e-01, -3.6788e-01,\n",
              "       -3.6885e-01, -4.0836e-01, -1.6628e-01, -2.1534e-01, -7.3451e-02,\n",
              "       -3.4754e-01, -8.6115e-03, -2.1517e-01,  4.9213e-01,  2.8894e-01,\n",
              "        1.9182e-01, -5.3703e-01,  1.5176e-02, -1.9287e-02,  1.2511e-01,\n",
              "        2.9509e-01, -1.0003e+00,  1.0112e-01, -1.3583e-01, -3.6766e-01,\n",
              "       -3.1532e-01,  3.9986e-01, -7.4484e-02, -1.6293e-01, -6.4623e-01,\n",
              "        1.8405e-01, -2.3892e-01,  3.5487e-01, -2.8264e-01, -3.4756e-01,\n",
              "        1.9120e-01,  7.6232e-02, -4.6812e-01,  3.9841e-01,  1.2330e-01,\n",
              "       -2.5784e-01,  4.5218e-01,  3.2891e-01,  3.7239e-02,  2.3779e-01],\n",
              "      dtype=float32)"
            ]
          },
          "metadata": {},
          "execution_count": 3
        }
      ]
    },
    {
      "cell_type": "markdown",
      "metadata": {
        "id": "E9qfbMxS1qDa"
      },
      "source": [
        "## word vectors understand the meanings of words\n"
      ]
    },
    {
      "cell_type": "code",
      "metadata": {
        "id": "zR3zzQUrfEXe",
        "outputId": "56b1c534-20fa-4482-afd6-78f3bb438aa4",
        "colab": {
          "base_uri": "https://localhost:8080/"
        }
      },
      "source": [
        "glove_model.most_similar(\"queen\")"
      ],
      "execution_count": 8,
      "outputs": [
        {
          "output_type": "execute_result",
          "data": {
            "text/plain": [
              "[('elizabeth', 0.6771447658538818),\n",
              " ('princess', 0.6356764435768127),\n",
              " ('king', 0.6336469054222107),\n",
              " ('monarch', 0.5814188122749329),\n",
              " ('royal', 0.543052613735199),\n",
              " ('majesty', 0.5350356698036194),\n",
              " ('victoria', 0.5239555835723877),\n",
              " ('throne', 0.5097099542617798),\n",
              " ('lady', 0.5045416355133057),\n",
              " ('crown', 0.49980056285858154)]"
            ]
          },
          "metadata": {},
          "execution_count": 8
        }
      ]
    },
    {
      "cell_type": "markdown",
      "metadata": {
        "id": "_Go8rwIO1RXU"
      },
      "source": [
        "## queen - girl + boy = king"
      ]
    },
    {
      "cell_type": "code",
      "metadata": {
        "id": "DVNmvmnyw-9h",
        "outputId": "29ba0b5a-513a-471c-d9c0-2fdca3e401d4",
        "colab": {
          "base_uri": "https://localhost:8080/"
        }
      },
      "source": [
        "glove_model.most_similar(positive=['boy', 'queen'], negative=['girl'], topn=1)"
      ],
      "execution_count": 9,
      "outputs": [
        {
          "output_type": "execute_result",
          "data": {
            "text/plain": [
              "[('king', 0.6770139932632446)]"
            ]
          },
          "metadata": {},
          "execution_count": 9
        }
      ]
    },
    {
      "cell_type": "code",
      "metadata": {
        "id": "R9Tn9a3zjISS",
        "outputId": "bc5e8adc-dbbb-4c62-ccc7-8e16e9fef1fc",
        "colab": {
          "base_uri": "https://localhost:8080/",
          "height": 699
        }
      },
      "source": [
        "vocab = [\"boy\", \"girl\", \"man\", \"woman\", \"king\", \"queen\", \"banana\", \"apple\", \"mango\", \"fruit\", \"coconut\", \"orange\",\"car\",\"bike\",\"lorry\",\"bicycle\"]\n",
        "\n",
        "def tsne_plot(model):\n",
        "    labels = []\n",
        "    wordvecs = []\n",
        "\n",
        "    for word in vocab:\n",
        "        wordvecs.append(model[word])\n",
        "        labels.append(word)\n",
        "\n",
        "    # Convert wordvecs to a NumPy array\n",
        "    wordvecs = np.array(wordvecs)\n",
        "\n",
        "    tsne_model = TSNE(perplexity=3, n_components=2, init='pca', random_state=42)\n",
        "    coordinates = tsne_model.fit_transform(wordvecs)\n",
        "\n",
        "    x = []\n",
        "    y = []\n",
        "    for value in coordinates:\n",
        "        x.append(value[0])\n",
        "        y.append(value[1])\n",
        "\n",
        "    plt.figure(figsize=(8,8))\n",
        "    for i in range(len(x)):\n",
        "        plt.scatter(x[i],y[i])\n",
        "        plt.annotate(labels[i],\n",
        "                     xy=(x[i], y[i]),\n",
        "                     xytext=(2, 2),\n",
        "                     textcoords='offset points',\n",
        "                     ha='right',\n",
        "                     va='bottom')\n",
        "    plt.title(\"Using Glove\")\n",
        "    plt.show()\n",
        "\n",
        "tsne_plot(glove_model)"
      ],
      "execution_count": 14,
      "outputs": [
        {
          "output_type": "display_data",
          "data": {
            "text/plain": [
              "<Figure size 800x800 with 1 Axes>"
            ],
            "image/png": "[encoded data removed]"
          },
          "metadata": {}
        }
      ]
    },
    {
      "cell_type": "code",
      "source": [],
      "metadata": {
        "id": "h9O5HPymO5vH"
      },
      "execution_count": null,
      "outputs": []
    }
  ]
}